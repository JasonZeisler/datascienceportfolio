{
 "cells": [
  {
   "cell_type": "markdown",
   "metadata": {},
   "source": [
    "A model has been created and saved to a pickle file. Load the model, get new data, and predict on the new data."
   ]
  },
  {
   "cell_type": "code",
   "execution_count": 15,
   "metadata": {},
   "outputs": [],
   "source": [
    "import yfinance as yf\n",
    "import pandas as pd\n",
    "import numpy as np\n",
    "import sys, os\n",
    "import joblib\n",
    "from sklearn.preprocessing import StandardScaler\n",
    "\n",
    "# Get the current working directory\n",
    "current_dir = os.getcwd()\n",
    "\n",
    "# Get the path to the parent directory\n",
    "parent_dir = os.path.abspath(os.path.join(current_dir, '..'))\n",
    "\n",
    "# Add the parent directory to the Python path\n",
    "sys.path.insert(0, parent_dir)\n",
    "import indicators as ind "
   ]
  },
  {
   "cell_type": "code",
   "execution_count": 29,
   "metadata": {},
   "outputs": [
    {
     "name": "stderr",
     "output_type": "stream",
     "text": [
      "[*********************100%%**********************]  1 of 1 completed\n"
     ]
    },
    {
     "name": "stdout",
     "output_type": "stream",
     "text": [
      "(2516, 6)\n",
      "Empty DataFrame\n",
      "Columns: [Prediction]\n",
      "Index: []\n"
     ]
    },
    {
     "name": "stderr",
     "output_type": "stream",
     "text": [
      "[*********************100%%**********************]  1 of 1 completed\n"
     ]
    },
    {
     "name": "stdout",
     "output_type": "stream",
     "text": [
      "(2516, 6)\n",
      "            Prediction\n",
      "Date                  \n",
      "2015-08-05        True\n",
      "2015-08-06        True\n",
      "2015-08-07        True\n",
      "2015-08-10        True\n",
      "2015-08-11        True\n",
      "...                ...\n",
      "2018-11-02        True\n",
      "2018-11-05        True\n",
      "2019-01-11        True\n",
      "2019-04-11        True\n",
      "2020-04-15        True\n",
      "\n",
      "[64 rows x 1 columns]\n"
     ]
    },
    {
     "name": "stderr",
     "output_type": "stream",
     "text": [
      "[*********************100%%**********************]  1 of 1 completed\n"
     ]
    },
    {
     "name": "stdout",
     "output_type": "stream",
     "text": [
      "(2516, 6)\n",
      "Empty DataFrame\n",
      "Columns: [Prediction]\n",
      "Index: []\n"
     ]
    },
    {
     "name": "stderr",
     "output_type": "stream",
     "text": [
      "[*********************100%%**********************]  1 of 1 completed\n"
     ]
    },
    {
     "name": "stdout",
     "output_type": "stream",
     "text": [
      "(2516, 6)\n",
      "Empty DataFrame\n",
      "Columns: [Prediction]\n",
      "Index: []\n"
     ]
    },
    {
     "name": "stderr",
     "output_type": "stream",
     "text": [
      "[*********************100%%**********************]  1 of 1 completed\n"
     ]
    },
    {
     "name": "stdout",
     "output_type": "stream",
     "text": [
      "(2516, 6)\n",
      "            Prediction\n",
      "Date                  \n",
      "2015-10-02        True\n",
      "2015-10-05        True\n",
      "2015-10-06        True\n",
      "2015-10-13        True\n",
      "2015-10-20        True\n",
      "...                ...\n",
      "2018-03-01        True\n",
      "2021-05-14        True\n",
      "2022-05-05        True\n",
      "2022-05-06        True\n",
      "2023-12-13        True\n",
      "\n",
      "[121 rows x 1 columns]\n"
     ]
    },
    {
     "name": "stderr",
     "output_type": "stream",
     "text": [
      "[*********************100%%**********************]  1 of 1 completed\n"
     ]
    },
    {
     "name": "stdout",
     "output_type": "stream",
     "text": [
      "(1061, 6)\n",
      "            Prediction\n",
      "Date                  \n",
      "2021-04-26        True\n",
      "2021-04-27        True\n",
      "2021-04-28        True\n",
      "2021-04-29        True\n",
      "2021-04-30        True\n",
      "2021-05-03        True\n"
     ]
    },
    {
     "name": "stderr",
     "output_type": "stream",
     "text": [
      "[*********************100%%**********************]  1 of 1 completed\n"
     ]
    },
    {
     "name": "stdout",
     "output_type": "stream",
     "text": [
      "(2516, 6)\n",
      "            Prediction\n",
      "Date                  \n",
      "2015-10-13        True\n",
      "2016-01-11        True\n",
      "2016-01-13        True\n",
      "2016-01-14        True\n",
      "2021-12-03        True\n"
     ]
    },
    {
     "name": "stderr",
     "output_type": "stream",
     "text": [
      "[*********************100%%**********************]  1 of 1 completed\n"
     ]
    },
    {
     "name": "stdout",
     "output_type": "stream",
     "text": [
      "(2516, 6)\n",
      "Empty DataFrame\n",
      "Columns: [Prediction]\n",
      "Index: []\n"
     ]
    },
    {
     "name": "stderr",
     "output_type": "stream",
     "text": [
      "[*********************100%%**********************]  1 of 1 completed\n"
     ]
    },
    {
     "name": "stdout",
     "output_type": "stream",
     "text": [
      "(2516, 6)\n",
      "Empty DataFrame\n",
      "Columns: [Prediction]\n",
      "Index: []\n"
     ]
    },
    {
     "name": "stderr",
     "output_type": "stream",
     "text": [
      "[*********************100%%**********************]  1 of 1 completed\n"
     ]
    },
    {
     "name": "stdout",
     "output_type": "stream",
     "text": [
      "(2516, 6)\n",
      "Empty DataFrame\n",
      "Columns: [Prediction]\n",
      "Index: []\n"
     ]
    },
    {
     "name": "stderr",
     "output_type": "stream",
     "text": [
      "[*********************100%%**********************]  1 of 1 completed\n"
     ]
    },
    {
     "name": "stdout",
     "output_type": "stream",
     "text": [
      "(2516, 6)\n",
      "Empty DataFrame\n",
      "Columns: [Prediction]\n",
      "Index: []\n"
     ]
    },
    {
     "name": "stderr",
     "output_type": "stream",
     "text": [
      "[*********************100%%**********************]  1 of 1 completed\n",
      "[*********************100%%**********************]  1 of 1 completed\n"
     ]
    },
    {
     "name": "stdout",
     "output_type": "stream",
     "text": [
      "(2516, 6)\n",
      "Empty DataFrame\n",
      "Columns: [Prediction]\n",
      "Index: []\n",
      "(2516, 6)\n",
      "Empty DataFrame\n",
      "Columns: [Prediction]\n",
      "Index: []\n"
     ]
    },
    {
     "name": "stderr",
     "output_type": "stream",
     "text": [
      "[*********************100%%**********************]  1 of 1 completed\n"
     ]
    },
    {
     "name": "stdout",
     "output_type": "stream",
     "text": [
      "(2516, 6)\n",
      "Empty DataFrame\n",
      "Columns: [Prediction]\n",
      "Index: []\n"
     ]
    },
    {
     "name": "stderr",
     "output_type": "stream",
     "text": [
      "[*********************100%%**********************]  1 of 1 completed\n"
     ]
    },
    {
     "name": "stdout",
     "output_type": "stream",
     "text": [
      "(1900, 6)\n",
      "Empty DataFrame\n",
      "Columns: [Prediction]\n",
      "Index: []\n"
     ]
    },
    {
     "name": "stderr",
     "output_type": "stream",
     "text": [
      "[*********************100%%**********************]  1 of 1 completed\n",
      "[*********************100%%**********************]  1 of 1 completed"
     ]
    },
    {
     "name": "stdout",
     "output_type": "stream",
     "text": [
      "(1364, 6)\n",
      "Empty DataFrame\n",
      "Columns: [Prediction]\n",
      "Index: []\n"
     ]
    },
    {
     "name": "stderr",
     "output_type": "stream",
     "text": [
      "\n"
     ]
    },
    {
     "name": "stdout",
     "output_type": "stream",
     "text": [
      "(1627, 6)\n",
      "Empty DataFrame\n",
      "Columns: [Prediction]\n",
      "Index: []\n"
     ]
    },
    {
     "name": "stderr",
     "output_type": "stream",
     "text": [
      "[*********************100%%**********************]  1 of 1 completed\n"
     ]
    },
    {
     "name": "stdout",
     "output_type": "stream",
     "text": [
      "(2516, 6)\n",
      "Empty DataFrame\n",
      "Columns: [Prediction]\n",
      "Index: []\n"
     ]
    },
    {
     "name": "stderr",
     "output_type": "stream",
     "text": [
      "[*********************100%%**********************]  1 of 1 completed\n"
     ]
    },
    {
     "name": "stdout",
     "output_type": "stream",
     "text": [
      "(2516, 6)\n",
      "Empty DataFrame\n",
      "Columns: [Prediction]\n",
      "Index: []\n"
     ]
    },
    {
     "name": "stderr",
     "output_type": "stream",
     "text": [
      "[*********************100%%**********************]  1 of 1 completed\n",
      "[*********************100%%**********************]  1 of 1 completed\n"
     ]
    },
    {
     "name": "stdout",
     "output_type": "stream",
     "text": [
      "(2516, 6)\n",
      "Empty DataFrame\n",
      "Columns: [Prediction]\n",
      "Index: []\n",
      "(810, 6)\n"
     ]
    },
    {
     "name": "stderr",
     "output_type": "stream",
     "text": [
      "[*********************100%%**********************]  1 of 1 completed"
     ]
    },
    {
     "name": "stdout",
     "output_type": "stream",
     "text": [
      "Empty DataFrame\n",
      "Columns: [Prediction]\n",
      "Index: []\n",
      "(2516, 6)\n"
     ]
    },
    {
     "name": "stderr",
     "output_type": "stream",
     "text": [
      "\n",
      "[*********************100%%**********************]  1 of 1 completed"
     ]
    },
    {
     "name": "stdout",
     "output_type": "stream",
     "text": [
      "            Prediction\n",
      "Date                  \n",
      "2021-07-07        True\n",
      "2021-08-05        True\n",
      "2021-08-06        True\n",
      "2021-08-09        True\n",
      "2021-08-10        True\n",
      "2021-08-11        True\n",
      "2021-08-12        True\n",
      "2021-08-13        True\n",
      "2021-08-16        True\n",
      "2021-11-11        True\n",
      "2021-11-15        True\n",
      "2021-11-23        True\n"
     ]
    },
    {
     "name": "stderr",
     "output_type": "stream",
     "text": [
      "\n"
     ]
    },
    {
     "name": "stdout",
     "output_type": "stream",
     "text": [
      "(2516, 6)\n",
      "Empty DataFrame\n",
      "Columns: [Prediction]\n",
      "Index: []\n"
     ]
    },
    {
     "name": "stderr",
     "output_type": "stream",
     "text": [
      "[*********************100%%**********************]  1 of 1 completed\n"
     ]
    },
    {
     "name": "stdout",
     "output_type": "stream",
     "text": [
      "(2516, 6)\n",
      "Empty DataFrame\n",
      "Columns: [Prediction]\n",
      "Index: []\n"
     ]
    },
    {
     "name": "stderr",
     "output_type": "stream",
     "text": [
      "[*********************100%%**********************]  1 of 1 completed"
     ]
    },
    {
     "name": "stdout",
     "output_type": "stream",
     "text": [
      "(2516, 6)\n",
      "            Prediction\n",
      "Date                  \n",
      "2016-03-21        True\n",
      "2016-03-23        True\n",
      "2016-03-28        True\n",
      "2016-03-29        True\n",
      "2016-03-31        True\n",
      "...                ...\n",
      "2023-07-20        True\n",
      "2023-07-24        True\n",
      "2023-07-25        True\n",
      "2023-07-27        True\n",
      "2023-08-25        True\n",
      "\n",
      "[343 rows x 1 columns]\n"
     ]
    },
    {
     "name": "stderr",
     "output_type": "stream",
     "text": [
      "\n"
     ]
    }
   ],
   "source": [
    "symbol_list = ['GOOGL', 'AMC', 'WMT', 'V', 'TNDM', 'DNB', 'RARE', 'TSLA', 'AAPL', 'MSFT', 'NFLX', 'AMZN', 'GOOGL', 'META', 'SNAP', 'PINS', 'SPOT', 'T', 'VZ', 'TMUS', 'S', 'TM', 'F', 'GM', 'HMC']\n",
    "# symbol_list = ['DOGE-USD']\n",
    "\n",
    "for symbol in symbol_list:\n",
    "\n",
    "    # get data from yfinance\n",
    "    df = yf.download(symbol, start='2014-09-19', end='2024-09-19', interval='1d')\n",
    "\n",
    "    if df.empty:\n",
    "        print(f\"No data found for {symbol}\")\n",
    "        continue\n",
    "    else:\n",
    "        print(df.shape)\n",
    "\n",
    "    # rename columns\n",
    "    df = df.rename(columns={'Close': 'close', 'High': 'high', 'Low': 'low', 'Open': 'open', 'Volume': 'volume'})\n",
    "\n",
    "    # log normalize price data\n",
    "    df['log_close'] = df['close'].apply(lambda x: np.log(x + 1))\n",
    "    df['log_high'] = df['high'].apply(lambda x: np.log(x + 1))\n",
    "    df['log_low'] = df['low'].apply(lambda x: np.log(x + 1))\n",
    "    df['log_open'] = df['open'].apply(lambda x: np.log(x + 1))\n",
    "\n",
    "    # log normalize volume\n",
    "    df['log_volume'] = df['volume'].apply(lambda x: np.log(x + 1))\n",
    "\n",
    "    # calculate volume average\n",
    "    df['volume_ma'] = df['volume'].rolling(window=20).mean()\n",
    "\n",
    "    # log normalize volume_ma\n",
    "    df['log_volume_ma'] = df['volume_ma'].apply(lambda x: np.log(x + 1))\n",
    "\n",
    "    df = ind.calculate_moving_averages(df).copy()\n",
    "\n",
    "    # log normalize ma fields\n",
    "    df['log_ma_10'] = df['ma_10'].apply(lambda x: np.log(x + 1))\n",
    "    df['log_ma_50'] = df['ma_50'].apply(lambda x: np.log(x + 1))\n",
    "    df['log_ma_100'] = df['ma_100'].apply(lambda x: np.log(x + 1))\n",
    "    df['log_ma_200'] = df['ma_200'].apply(lambda x: np.log(x + 1))\n",
    "\n",
    "    df = ind.calculate_adx(df).copy()\n",
    "\n",
    "    # log normalize adx\n",
    "    df['log_adx'] = df['adx'].apply(lambda x: np.log(x + 1))\n",
    "\n",
    "    # drop first 200 rows\n",
    "    df = df.iloc[200:]\n",
    "\n",
    "    # Extract necessary columns for predictions\n",
    "    pred_df = df[['log_close', 'log_high', 'log_low', 'log_open', 'log_adx', \n",
    "                  'log_volume', 'log_volume_ma', 'log_ma_10', 'log_ma_50', \n",
    "                  'log_ma_100', 'log_ma_200']]\n",
    "    \n",
    "    # Load the saved scaler\n",
    "    scaler = joblib.load('scaler.pkl')\n",
    "\n",
    "    # Scale the entire dataset\n",
    "    pred_data_scaled = scaler.transform(pred_df)\n",
    "\n",
    "    # Load the model from the file\n",
    "    loaded_rf_model = joblib.load('random_forest_model.pkl')\n",
    "\n",
    "    # Make predictions for all rows\n",
    "    predictions = loaded_rf_model.predict(pred_data_scaled)\n",
    "\n",
    "    # Add the predictions as a new column to the original DataFrame\n",
    "    df['Prediction'] = predictions\n",
    "\n",
    "    # Optionally, filter for records where the prediction is True\n",
    "    profitable_trades = df[df['Prediction'] == True]\n",
    "\n",
    "    # Print the dates and predictions\n",
    "    print(profitable_trades[['Prediction']])\n"
   ]
  }
 ],
 "metadata": {
  "kernelspec": {
   "display_name": "Python 3",
   "language": "python",
   "name": "python3"
  },
  "language_info": {
   "codemirror_mode": {
    "name": "ipython",
    "version": 3
   },
   "file_extension": ".py",
   "mimetype": "text/x-python",
   "name": "python",
   "nbconvert_exporter": "python",
   "pygments_lexer": "ipython3",
   "version": "3.12.3"
  }
 },
 "nbformat": 4,
 "nbformat_minor": 2
}
