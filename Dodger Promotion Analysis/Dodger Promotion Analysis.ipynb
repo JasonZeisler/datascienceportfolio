{
 "cells": [
  {
   "cell_type": "code",
   "execution_count": 1,
   "metadata": {},
   "outputs": [],
   "source": [
    "import pandas as pd"
   ]
  },
  {
   "cell_type": "code",
   "execution_count": 2,
   "metadata": {},
   "outputs": [
    {
     "data": {
      "text/html": [
       "<div>\n",
       "<style scoped>\n",
       "    .dataframe tbody tr th:only-of-type {\n",
       "        vertical-align: middle;\n",
       "    }\n",
       "\n",
       "    .dataframe tbody tr th {\n",
       "        vertical-align: top;\n",
       "    }\n",
       "\n",
       "    .dataframe thead th {\n",
       "        text-align: right;\n",
       "    }\n",
       "</style>\n",
       "<table border=\"1\" class=\"dataframe\">\n",
       "  <thead>\n",
       "    <tr style=\"text-align: right;\">\n",
       "      <th></th>\n",
       "      <th>month</th>\n",
       "      <th>day</th>\n",
       "      <th>attend</th>\n",
       "      <th>day_of_week</th>\n",
       "      <th>opponent</th>\n",
       "      <th>temp</th>\n",
       "      <th>skies</th>\n",
       "      <th>day_night</th>\n",
       "      <th>cap</th>\n",
       "      <th>shirt</th>\n",
       "      <th>fireworks</th>\n",
       "      <th>bobblehead</th>\n",
       "    </tr>\n",
       "  </thead>\n",
       "  <tbody>\n",
       "    <tr>\n",
       "      <th>0</th>\n",
       "      <td>APR</td>\n",
       "      <td>10</td>\n",
       "      <td>56000</td>\n",
       "      <td>Tuesday</td>\n",
       "      <td>Pirates</td>\n",
       "      <td>67</td>\n",
       "      <td>Clear</td>\n",
       "      <td>Day</td>\n",
       "      <td>NO</td>\n",
       "      <td>NO</td>\n",
       "      <td>NO</td>\n",
       "      <td>NO</td>\n",
       "    </tr>\n",
       "    <tr>\n",
       "      <th>1</th>\n",
       "      <td>APR</td>\n",
       "      <td>11</td>\n",
       "      <td>29729</td>\n",
       "      <td>Wednesday</td>\n",
       "      <td>Pirates</td>\n",
       "      <td>58</td>\n",
       "      <td>Cloudy</td>\n",
       "      <td>Night</td>\n",
       "      <td>NO</td>\n",
       "      <td>NO</td>\n",
       "      <td>NO</td>\n",
       "      <td>NO</td>\n",
       "    </tr>\n",
       "    <tr>\n",
       "      <th>2</th>\n",
       "      <td>APR</td>\n",
       "      <td>12</td>\n",
       "      <td>28328</td>\n",
       "      <td>Thursday</td>\n",
       "      <td>Pirates</td>\n",
       "      <td>57</td>\n",
       "      <td>Cloudy</td>\n",
       "      <td>Night</td>\n",
       "      <td>NO</td>\n",
       "      <td>NO</td>\n",
       "      <td>NO</td>\n",
       "      <td>NO</td>\n",
       "    </tr>\n",
       "    <tr>\n",
       "      <th>3</th>\n",
       "      <td>APR</td>\n",
       "      <td>13</td>\n",
       "      <td>31601</td>\n",
       "      <td>Friday</td>\n",
       "      <td>Padres</td>\n",
       "      <td>54</td>\n",
       "      <td>Cloudy</td>\n",
       "      <td>Night</td>\n",
       "      <td>NO</td>\n",
       "      <td>NO</td>\n",
       "      <td>YES</td>\n",
       "      <td>NO</td>\n",
       "    </tr>\n",
       "    <tr>\n",
       "      <th>4</th>\n",
       "      <td>APR</td>\n",
       "      <td>14</td>\n",
       "      <td>46549</td>\n",
       "      <td>Saturday</td>\n",
       "      <td>Padres</td>\n",
       "      <td>57</td>\n",
       "      <td>Cloudy</td>\n",
       "      <td>Night</td>\n",
       "      <td>NO</td>\n",
       "      <td>NO</td>\n",
       "      <td>NO</td>\n",
       "      <td>NO</td>\n",
       "    </tr>\n",
       "  </tbody>\n",
       "</table>\n",
       "</div>"
      ],
      "text/plain": [
       "  month  day  attend day_of_week opponent  temp   skies day_night cap shirt  \\\n",
       "0   APR   10   56000     Tuesday  Pirates    67  Clear        Day  NO    NO   \n",
       "1   APR   11   29729   Wednesday  Pirates    58  Cloudy     Night  NO    NO   \n",
       "2   APR   12   28328    Thursday  Pirates    57  Cloudy     Night  NO    NO   \n",
       "3   APR   13   31601      Friday   Padres    54  Cloudy     Night  NO    NO   \n",
       "4   APR   14   46549    Saturday   Padres    57  Cloudy     Night  NO    NO   \n",
       "\n",
       "  fireworks bobblehead  \n",
       "0        NO         NO  \n",
       "1        NO         NO  \n",
       "2        NO         NO  \n",
       "3       YES         NO  \n",
       "4        NO         NO  "
      ]
     },
     "execution_count": 2,
     "metadata": {},
     "output_type": "execute_result"
    }
   ],
   "source": [
    "# Load the data\n",
    "file_path = 'dodgers-2022.csv'\n",
    "dodgers_data = pd.read_csv(file_path)\n",
    "\n",
    "# print first 5 rows of the data\n",
    "dodgers_data.head()"
   ]
  },
  {
   "cell_type": "markdown",
   "metadata": {},
   "source": [
    "I want to check out how special events or promotions affect attendance. I am also concerned that if some don't have enough events that we can't be sure if they are significant enough."
   ]
  },
  {
   "cell_type": "code",
   "execution_count": 7,
   "metadata": {},
   "outputs": [
    {
     "name": "stdout",
     "output_type": "stream",
     "text": [
      "Number of games with cap = YES: 2\n",
      "Number of games with cap = NO: 79\n"
     ]
    }
   ],
   "source": [
    "# get count of games with cap = YES\n",
    "cap_yes = dodgers_data[dodgers_data['cap'] == 'YES'].shape[0]\n",
    "\n",
    "# get count of games with cap = NO\n",
    "cap_no = dodgers_data[dodgers_data['cap'] == 'NO'].shape[0]\n",
    "\n",
    "# print the counts\n",
    "print('Number of games with cap = YES:', cap_yes)\n",
    "print('Number of games with cap = NO:', cap_no)"
   ]
  },
  {
   "cell_type": "code",
   "execution_count": 8,
   "metadata": {},
   "outputs": [
    {
     "name": "stdout",
     "output_type": "stream",
     "text": [
      "Number of games with shirt = YES: 3\n",
      "Number of games with shirt = NO: 78\n"
     ]
    }
   ],
   "source": [
    "# get count of games with shirt = YES\n",
    "shirt_yes = dodgers_data[dodgers_data['shirt'] == 'YES'].shape[0]\n",
    "\n",
    "# get count of games with shirt = NO\n",
    "shirt_no = dodgers_data[dodgers_data['shirt'] == 'NO'].shape[0]\n",
    "\n",
    "# print the counts\n",
    "print('Number of games with shirt = YES:', shirt_yes)\n",
    "print('Number of games with shirt = NO:', shirt_no)"
   ]
  },
  {
   "cell_type": "code",
   "execution_count": 9,
   "metadata": {},
   "outputs": [
    {
     "name": "stdout",
     "output_type": "stream",
     "text": [
      "Number of games with fireworks = YES: 14\n",
      "Number of games with fireworks = NO: 67\n"
     ]
    }
   ],
   "source": [
    "# get count of games with fireworks = YES\n",
    "fireworks_yes = dodgers_data[dodgers_data['fireworks'] == 'YES'].shape[0]\n",
    "\n",
    "# get count of games with shirt = NO\n",
    "fireworks_no = dodgers_data[dodgers_data['fireworks'] == 'NO'].shape[0]\n",
    "\n",
    "# print the counts\n",
    "print('Number of games with fireworks = YES:', fireworks_yes)\n",
    "print('Number of games with fireworks = NO:', fireworks_no)"
   ]
  },
  {
   "cell_type": "code",
   "execution_count": 10,
   "metadata": {},
   "outputs": [
    {
     "name": "stdout",
     "output_type": "stream",
     "text": [
      "Number of games with bobblehead = YES: 11\n",
      "Number of games with bobblehead = NO: 70\n"
     ]
    }
   ],
   "source": [
    "# get count of games with bobblehead = YES\n",
    "bobblehead_yes = dodgers_data[dodgers_data['bobblehead'] == 'YES'].shape[0]\n",
    "\n",
    "# get count of games with shirt = NO\n",
    "bobblehead_no = dodgers_data[dodgers_data['bobblehead'] == 'NO'].shape[0]\n",
    "\n",
    "# print the counts\n",
    "print('Number of games with bobblehead = YES:', bobblehead_yes)\n",
    "print('Number of games with bobblehead = NO:', bobblehead_no)"
   ]
  },
  {
   "cell_type": "markdown",
   "metadata": {},
   "source": [
    "I feel like fireworks and bobbleheads are the two best things to explore more. "
   ]
  },
  {
   "cell_type": "code",
   "execution_count": 3,
   "metadata": {},
   "outputs": [
    {
     "name": "stdout",
     "output_type": "stream",
     "text": [
      "  bobblehead        attend\n",
      "0         NO  39137.928571\n",
      "1        YES  53144.636364\n"
     ]
    }
   ],
   "source": [
    "# Group by bobblehead promotion status and calculate the average attendance\n",
    "bobblehead_analysis = dodgers_data.groupby('bobblehead')['attend'].mean().reset_index()\n",
    "print(bobblehead_analysis)\n"
   ]
  },
  {
   "cell_type": "code",
   "execution_count": 14,
   "metadata": {},
   "outputs": [
    {
     "data": {
      "text/html": [
       "<table class=\"simpletable\">\n",
       "<caption>OLS Regression Results</caption>\n",
       "<tr>\n",
       "  <th>Dep. Variable:</th>         <td>attend</td>      <th>  R-squared:         </th> <td>   0.339</td>\n",
       "</tr>\n",
       "<tr>\n",
       "  <th>Model:</th>                   <td>OLS</td>       <th>  Adj. R-squared:    </th> <td>   0.330</td>\n",
       "</tr>\n",
       "<tr>\n",
       "  <th>Method:</th>             <td>Least Squares</td>  <th>  F-statistic:       </th> <td>   40.44</td>\n",
       "</tr>\n",
       "<tr>\n",
       "  <th>Date:</th>             <td>Sun, 23 Jun 2024</td> <th>  Prob (F-statistic):</th> <td>1.22e-08</td>\n",
       "</tr>\n",
       "<tr>\n",
       "  <th>Time:</th>                 <td>21:07:18</td>     <th>  Log-Likelihood:    </th> <td> -828.61</td>\n",
       "</tr>\n",
       "<tr>\n",
       "  <th>No. Observations:</th>      <td>    81</td>      <th>  AIC:               </th> <td>   1661.</td>\n",
       "</tr>\n",
       "<tr>\n",
       "  <th>Df Residuals:</th>          <td>    79</td>      <th>  BIC:               </th> <td>   1666.</td>\n",
       "</tr>\n",
       "<tr>\n",
       "  <th>Df Model:</th>              <td>     1</td>      <th>                     </th>     <td> </td>   \n",
       "</tr>\n",
       "<tr>\n",
       "  <th>Covariance Type:</th>      <td>nonrobust</td>    <th>                     </th>     <td> </td>   \n",
       "</tr>\n",
       "</table>\n",
       "<table class=\"simpletable\">\n",
       "<tr>\n",
       "            <td></td>              <th>coef</th>     <th>std err</th>      <th>t</th>      <th>P>|t|</th>  <th>[0.025</th>    <th>0.975]</th>  \n",
       "</tr>\n",
       "<tr>\n",
       "  <th>const</th>                <td> 3.914e+04</td> <td>  811.640</td> <td>   48.221</td> <td> 0.000</td> <td> 3.75e+04</td> <td> 4.08e+04</td>\n",
       "</tr>\n",
       "<tr>\n",
       "  <th>bobblehead_promotion</th> <td> 1.401e+04</td> <td> 2202.467</td> <td>    6.360</td> <td> 0.000</td> <td> 9622.807</td> <td> 1.84e+04</td>\n",
       "</tr>\n",
       "</table>\n",
       "<table class=\"simpletable\">\n",
       "<tr>\n",
       "  <th>Omnibus:</th>       <td> 0.616</td> <th>  Durbin-Watson:     </th> <td>   1.935</td>\n",
       "</tr>\n",
       "<tr>\n",
       "  <th>Prob(Omnibus):</th> <td> 0.735</td> <th>  Jarque-Bera (JB):  </th> <td>   0.436</td>\n",
       "</tr>\n",
       "<tr>\n",
       "  <th>Skew:</th>          <td> 0.180</td> <th>  Prob(JB):          </th> <td>   0.804</td>\n",
       "</tr>\n",
       "<tr>\n",
       "  <th>Kurtosis:</th>      <td> 2.995</td> <th>  Cond. No.          </th> <td>    2.98</td>\n",
       "</tr>\n",
       "</table><br/><br/>Notes:<br/>[1] Standard Errors assume that the covariance matrix of the errors is correctly specified."
      ],
      "text/latex": [
       "\\begin{center}\n",
       "\\begin{tabular}{lclc}\n",
       "\\toprule\n",
       "\\textbf{Dep. Variable:}        &      attend      & \\textbf{  R-squared:         } &     0.339   \\\\\n",
       "\\textbf{Model:}                &       OLS        & \\textbf{  Adj. R-squared:    } &     0.330   \\\\\n",
       "\\textbf{Method:}               &  Least Squares   & \\textbf{  F-statistic:       } &     40.44   \\\\\n",
       "\\textbf{Date:}                 & Sun, 23 Jun 2024 & \\textbf{  Prob (F-statistic):} &  1.22e-08   \\\\\n",
       "\\textbf{Time:}                 &     21:07:18     & \\textbf{  Log-Likelihood:    } &   -828.61   \\\\\n",
       "\\textbf{No. Observations:}     &          81      & \\textbf{  AIC:               } &     1661.   \\\\\n",
       "\\textbf{Df Residuals:}         &          79      & \\textbf{  BIC:               } &     1666.   \\\\\n",
       "\\textbf{Df Model:}             &           1      & \\textbf{                     } &             \\\\\n",
       "\\textbf{Covariance Type:}      &    nonrobust     & \\textbf{                     } &             \\\\\n",
       "\\bottomrule\n",
       "\\end{tabular}\n",
       "\\begin{tabular}{lcccccc}\n",
       "                               & \\textbf{coef} & \\textbf{std err} & \\textbf{t} & \\textbf{P$> |$t$|$} & \\textbf{[0.025} & \\textbf{0.975]}  \\\\\n",
       "\\midrule\n",
       "\\textbf{const}                 &    3.914e+04  &      811.640     &    48.221  &         0.000        &     3.75e+04    &     4.08e+04     \\\\\n",
       "\\textbf{bobblehead\\_promotion} &    1.401e+04  &     2202.467     &     6.360  &         0.000        &     9622.807    &     1.84e+04     \\\\\n",
       "\\bottomrule\n",
       "\\end{tabular}\n",
       "\\begin{tabular}{lclc}\n",
       "\\textbf{Omnibus:}       &  0.616 & \\textbf{  Durbin-Watson:     } &    1.935  \\\\\n",
       "\\textbf{Prob(Omnibus):} &  0.735 & \\textbf{  Jarque-Bera (JB):  } &    0.436  \\\\\n",
       "\\textbf{Skew:}          &  0.180 & \\textbf{  Prob(JB):          } &    0.804  \\\\\n",
       "\\textbf{Kurtosis:}      &  2.995 & \\textbf{  Cond. No.          } &     2.98  \\\\\n",
       "\\bottomrule\n",
       "\\end{tabular}\n",
       "%\\caption{OLS Regression Results}\n",
       "\\end{center}\n",
       "\n",
       "Notes: \\newline\n",
       " [1] Standard Errors assume that the covariance matrix of the errors is correctly specified."
      ],
      "text/plain": [
       "<class 'statsmodels.iolib.summary.Summary'>\n",
       "\"\"\"\n",
       "                            OLS Regression Results                            \n",
       "==============================================================================\n",
       "Dep. Variable:                 attend   R-squared:                       0.339\n",
       "Model:                            OLS   Adj. R-squared:                  0.330\n",
       "Method:                 Least Squares   F-statistic:                     40.44\n",
       "Date:                Sun, 23 Jun 2024   Prob (F-statistic):           1.22e-08\n",
       "Time:                        21:07:18   Log-Likelihood:                -828.61\n",
       "No. Observations:                  81   AIC:                             1661.\n",
       "Df Residuals:                      79   BIC:                             1666.\n",
       "Df Model:                           1                                         \n",
       "Covariance Type:            nonrobust                                         \n",
       "========================================================================================\n",
       "                           coef    std err          t      P>|t|      [0.025      0.975]\n",
       "----------------------------------------------------------------------------------------\n",
       "const                 3.914e+04    811.640     48.221      0.000    3.75e+04    4.08e+04\n",
       "bobblehead_promotion  1.401e+04   2202.467      6.360      0.000    9622.807    1.84e+04\n",
       "==============================================================================\n",
       "Omnibus:                        0.616   Durbin-Watson:                   1.935\n",
       "Prob(Omnibus):                  0.735   Jarque-Bera (JB):                0.436\n",
       "Skew:                           0.180   Prob(JB):                        0.804\n",
       "Kurtosis:                       2.995   Cond. No.                         2.98\n",
       "==============================================================================\n",
       "\n",
       "Notes:\n",
       "[1] Standard Errors assume that the covariance matrix of the errors is correctly specified.\n",
       "\"\"\""
      ]
     },
     "execution_count": 14,
     "metadata": {},
     "output_type": "execute_result"
    }
   ],
   "source": [
    "import statsmodels.api as sm\n",
    "\n",
    "# Create a binary variable for bobblehead promotion\n",
    "dodgers_data['bobblehead_promotion'] = dodgers_data['bobblehead'].apply(lambda x: 1 if x == 'YES' else 0)\n",
    "\n",
    "# Define the independent and depenend variables\n",
    "X = dodgers_data['bobblehead_promotion']\n",
    "y = dodgers_data['attend']\n",
    "\n",
    "# Add a constant\n",
    "X = sm.add_constant(X)\n",
    "\n",
    "# Perform the regression analysis\n",
    "model = sm.OLS(y, X).fit()\n",
    "\n",
    "# Results\n",
    "regression_results = model.summary()\n",
    "regression_results\n"
   ]
  },
  {
   "cell_type": "markdown",
   "metadata": {},
   "source": [
    "It seems like the the bobblehead promotion has a big impact on attendance. "
   ]
  },
  {
   "cell_type": "code",
   "execution_count": 11,
   "metadata": {},
   "outputs": [
    {
     "name": "stdout",
     "output_type": "stream",
     "text": [
      "  fireworks        attend\n",
      "0        NO  41032.179104\n",
      "1       YES  41077.857143\n"
     ]
    }
   ],
   "source": [
    "# Group by fireworks promotion status and calculate the average attendance\n",
    "fireworks_analysis = dodgers_data.groupby('fireworks')['attend'].mean().reset_index()\n",
    "print(fireworks_analysis)"
   ]
  },
  {
   "cell_type": "markdown",
   "metadata": {},
   "source": [
    "It doesn't seem that fireworks have any impact on attendance."
   ]
  },
  {
   "cell_type": "code",
   "execution_count": 6,
   "metadata": {},
   "outputs": [
    {
     "data": {
      "image/png": "[encoded data removed]",
      "text/plain": [
       "<Figure size 1000x600 with 1 Axes>"
      ]
     },
     "metadata": {},
     "output_type": "display_data"
    }
   ],
   "source": [
    "import matplotlib.pyplot as plt\n",
    "import seaborn as sns\n",
    "\n",
    "# Plotting the average attendance with and without bobblehead promotions\n",
    "plt.figure(figsize=(10, 6))\n",
    "sns.barplot(x='bobblehead', y='attend', data=bobblehead_analysis)\n",
    "plt.xlabel('Bobblehead Promotion')\n",
    "plt.ylabel('Average Attendance')\n",
    "plt.title('Average Attendance with and without Bobblehead Promotions')\n",
    "plt.xticks([0, 1], ['No Bobblehead', 'Bobblehead'])\n",
    "plt.show()\n"
   ]
  },
  {
   "cell_type": "markdown",
   "metadata": {},
   "source": [
    "My recommendation to the management would be to do more promotions with bobbleheads and explore other products like the caps and shirts more, but they may need to run those promotions more to get more data to find out the impact or at least do a survey with attendees."
   ]
  }
 ],
 "metadata": {
  "kernelspec": {
   "display_name": "Python 3 (ipykernel)",
   "language": "python",
   "name": "python3"
  },
  "language_info": {
   "codemirror_mode": {
    "name": "ipython",
    "version": 3
   },
   "file_extension": ".py",
   "mimetype": "text/x-python",
   "name": "python",
   "nbconvert_exporter": "python",
   "pygments_lexer": "ipython3",
   "version": "3.12.3"
  }
 },
 "nbformat": 4,
 "nbformat_minor": 2
}
